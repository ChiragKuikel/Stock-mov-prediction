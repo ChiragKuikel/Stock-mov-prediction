{
 "cells": [
  {
   "cell_type": "markdown",
   "id": "632130e6",
   "metadata": {},
   "source": [
    "# Data Import"
   ]
  },
  {
   "cell_type": "code",
   "execution_count": 13,
   "id": "94186661",
   "metadata": {},
   "outputs": [
    {
     "data": {
      "text/html": [
       "<div>\n",
       "<style scoped>\n",
       "    .dataframe tbody tr th:only-of-type {\n",
       "        vertical-align: middle;\n",
       "    }\n",
       "\n",
       "    .dataframe tbody tr th {\n",
       "        vertical-align: top;\n",
       "    }\n",
       "\n",
       "    .dataframe thead th {\n",
       "        text-align: right;\n",
       "    }\n",
       "</style>\n",
       "<table border=\"1\" class=\"dataframe\">\n",
       "  <thead>\n",
       "    <tr style=\"text-align: right;\">\n",
       "      <th></th>\n",
       "      <th>Label</th>\n",
       "      <th>Ticker</th>\n",
       "      <th>Headline</th>\n",
       "    </tr>\n",
       "  </thead>\n",
       "  <tbody>\n",
       "    <tr>\n",
       "      <th>0</th>\n",
       "      <td>0</td>\n",
       "      <td>A</td>\n",
       "      <td>@TotesTravel : Airline shares tumble as New Yo...</td>\n",
       "    </tr>\n",
       "    <tr>\n",
       "      <th>1</th>\n",
       "      <td>1</td>\n",
       "      <td>A</td>\n",
       "      <td>@TotesTravel : American United call off Hong K...</td>\n",
       "    </tr>\n",
       "    <tr>\n",
       "      <th>2</th>\n",
       "      <td>0</td>\n",
       "      <td>A</td>\n",
       "      <td>@TotesTravel : U.S. airline stocks hit highest...</td>\n",
       "    </tr>\n",
       "    <tr>\n",
       "      <th>3</th>\n",
       "      <td>1</td>\n",
       "      <td>A</td>\n",
       "      <td>@TotesTravel : American Airlines reaches deal ...</td>\n",
       "    </tr>\n",
       "    <tr>\n",
       "      <th>4</th>\n",
       "      <td>1</td>\n",
       "      <td>A</td>\n",
       "      <td>@TotesTravel : US airlines Treasury Department...</td>\n",
       "    </tr>\n",
       "  </tbody>\n",
       "</table>\n",
       "</div>"
      ],
      "text/plain": [
       "   Label Ticker                                           Headline\n",
       "0      0      A  @TotesTravel : Airline shares tumble as New Yo...\n",
       "1      1      A  @TotesTravel : American United call off Hong K...\n",
       "2      0      A  @TotesTravel : U.S. airline stocks hit highest...\n",
       "3      1      A  @TotesTravel : American Airlines reaches deal ...\n",
       "4      1      A  @TotesTravel : US airlines Treasury Department..."
      ]
     },
     "execution_count": 13,
     "metadata": {},
     "output_type": "execute_result"
    }
   ],
   "source": [
    "import pandas as pd\n",
    "df_nasdaq = pd.read_csv('../data/raw/nasdaq.csv')\n",
    "df_nasdaq.columns\n",
    "df_nasdaq.head()\n"
   ]
  },
  {
   "cell_type": "markdown",
   "id": "67957c41",
   "metadata": {},
   "source": [
    "# Basic data exploration"
   ]
  },
  {
   "cell_type": "code",
   "execution_count": 14,
   "id": "e2f6f28f",
   "metadata": {},
   "outputs": [
    {
     "data": {
      "text/plain": [
       "Label       0\n",
       "Ticker      0\n",
       "Headline    0\n",
       "dtype: int64"
      ]
     },
     "execution_count": 14,
     "metadata": {},
     "output_type": "execute_result"
    }
   ],
   "source": [
    "df_nasdaq[['Label','Ticker','Headline']].isna().sum()"
   ]
  },
  {
   "cell_type": "code",
   "execution_count": 15,
   "id": "2eaa5a7a",
   "metadata": {},
   "outputs": [
    {
     "data": {
      "text/plain": [
       "np.int64(2631)"
      ]
     },
     "execution_count": 15,
     "metadata": {},
     "output_type": "execute_result"
    }
   ],
   "source": [
    "df_nasdaq[['Label','Ticker','Headline']].duplicated().sum()"
   ]
  },
  {
   "cell_type": "markdown",
   "id": "72d1d7d0",
   "metadata": {},
   "source": [
    "### Removing duplicates"
   ]
  },
  {
   "cell_type": "code",
   "execution_count": 16,
   "id": "f028ecec",
   "metadata": {},
   "outputs": [
    {
     "data": {
      "text/html": [
       "<div>\n",
       "<style scoped>\n",
       "    .dataframe tbody tr th:only-of-type {\n",
       "        vertical-align: middle;\n",
       "    }\n",
       "\n",
       "    .dataframe tbody tr th {\n",
       "        vertical-align: top;\n",
       "    }\n",
       "\n",
       "    .dataframe thead th {\n",
       "        text-align: right;\n",
       "    }\n",
       "</style>\n",
       "<table border=\"1\" class=\"dataframe\">\n",
       "  <thead>\n",
       "    <tr style=\"text-align: right;\">\n",
       "      <th></th>\n",
       "      <th>Label</th>\n",
       "      <th>Ticker</th>\n",
       "      <th>Headline</th>\n",
       "    </tr>\n",
       "  </thead>\n",
       "  <tbody>\n",
       "    <tr>\n",
       "      <th>0</th>\n",
       "      <td>0</td>\n",
       "      <td>A</td>\n",
       "      <td>@TotesTravel : Airline shares tumble as New Yo...</td>\n",
       "    </tr>\n",
       "    <tr>\n",
       "      <th>1</th>\n",
       "      <td>1</td>\n",
       "      <td>A</td>\n",
       "      <td>@TotesTravel : American United call off Hong K...</td>\n",
       "    </tr>\n",
       "    <tr>\n",
       "      <th>2</th>\n",
       "      <td>0</td>\n",
       "      <td>A</td>\n",
       "      <td>@TotesTravel : U.S. airline stocks hit highest...</td>\n",
       "    </tr>\n",
       "    <tr>\n",
       "      <th>3</th>\n",
       "      <td>1</td>\n",
       "      <td>A</td>\n",
       "      <td>@TotesTravel : American Airlines reaches deal ...</td>\n",
       "    </tr>\n",
       "    <tr>\n",
       "      <th>4</th>\n",
       "      <td>1</td>\n",
       "      <td>A</td>\n",
       "      <td>@TotesTravel : US airlines Treasury Department...</td>\n",
       "    </tr>\n",
       "    <tr>\n",
       "      <th>...</th>\n",
       "      <td>...</td>\n",
       "      <td>...</td>\n",
       "      <td>...</td>\n",
       "    </tr>\n",
       "    <tr>\n",
       "      <th>10545</th>\n",
       "      <td>1</td>\n",
       "      <td>ZNGA</td>\n",
       "      <td>Bitcoin Tops $1000 Again as Zynga Accepts Virt...</td>\n",
       "    </tr>\n",
       "    <tr>\n",
       "      <th>10546</th>\n",
       "      <td>1</td>\n",
       "      <td>ZNGA</td>\n",
       "      <td>Zynga Accepts Bitcoin For Microtransactions</td>\n",
       "    </tr>\n",
       "    <tr>\n",
       "      <th>10547</th>\n",
       "      <td>1</td>\n",
       "      <td>ZUMZ</td>\n",
       "      <td>Zumiez (ZUMZ) unusual put activity into earnin...</td>\n",
       "    </tr>\n",
       "    <tr>\n",
       "      <th>10548</th>\n",
       "      <td>1</td>\n",
       "      <td>ZUMZ</td>\n",
       "      <td>Zumiez Is Going Bankrupt</td>\n",
       "    </tr>\n",
       "    <tr>\n",
       "      <th>10549</th>\n",
       "      <td>1</td>\n",
       "      <td>ZUMZ</td>\n",
       "      <td>Zumiez Is Going Bankrupt!! Omfg!</td>\n",
       "    </tr>\n",
       "  </tbody>\n",
       "</table>\n",
       "<p>10550 rows × 3 columns</p>\n",
       "</div>"
      ],
      "text/plain": [
       "       Label Ticker                                           Headline\n",
       "0          0      A  @TotesTravel : Airline shares tumble as New Yo...\n",
       "1          1      A  @TotesTravel : American United call off Hong K...\n",
       "2          0      A  @TotesTravel : U.S. airline stocks hit highest...\n",
       "3          1      A  @TotesTravel : American Airlines reaches deal ...\n",
       "4          1      A  @TotesTravel : US airlines Treasury Department...\n",
       "...      ...    ...                                                ...\n",
       "10545      1   ZNGA  Bitcoin Tops $1000 Again as Zynga Accepts Virt...\n",
       "10546      1   ZNGA        Zynga Accepts Bitcoin For Microtransactions\n",
       "10547      1   ZUMZ  Zumiez (ZUMZ) unusual put activity into earnin...\n",
       "10548      1   ZUMZ                           Zumiez Is Going Bankrupt\n",
       "10549      1   ZUMZ                   Zumiez Is Going Bankrupt!! Omfg!\n",
       "\n",
       "[10550 rows x 3 columns]"
      ]
     },
     "execution_count": 16,
     "metadata": {},
     "output_type": "execute_result"
    }
   ],
   "source": [
    "df_nasdaq.drop_duplicates().reset_index(drop=True)"
   ]
  },
  {
   "cell_type": "markdown",
   "id": "477cf785",
   "metadata": {},
   "source": [
    "### Checking label distribution"
   ]
  },
  {
   "cell_type": "code",
   "execution_count": 6,
   "id": "6de89baa",
   "metadata": {},
   "outputs": [
    {
     "data": {
      "image/png": "[encoded data removed]",
      "text/plain": [
       "<Figure size 640x480 with 1 Axes>"
      ]
     },
     "metadata": {},
     "output_type": "display_data"
    }
   ],
   "source": [
    "import matplotlib.pyplot as plt\n",
    "df_nasdaq.groupby(['Label']).count().plot(kind='bar')\n",
    "plt.show()"
   ]
  },
  {
   "cell_type": "markdown",
   "id": "eb330669",
   "metadata": {},
   "source": [
    "### Meaning of labels in dataset\n",
    "0 -> Stock went down after article\n",
    "1 -> Stock went up after article\n",
    "2 -> Stock neutral after article"
   ]
  },
  {
   "cell_type": "code",
   "execution_count": 18,
   "id": "444ad978",
   "metadata": {},
   "outputs": [
    {
     "data": {
      "text/plain": [
       "count    13181.000000\n",
       "mean       121.272817\n",
       "std         76.326246\n",
       "min          2.000000\n",
       "25%         63.000000\n",
       "50%         91.000000\n",
       "75%        177.000000\n",
       "max        309.000000\n",
       "Name: Headline, dtype: float64"
      ]
     },
     "execution_count": 18,
     "metadata": {},
     "output_type": "execute_result"
    }
   ],
   "source": [
    "df_nasdaq['Headline'].str.len().describe()"
   ]
  },
  {
   "cell_type": "code",
   "execution_count": 19,
   "id": "34a5aa79",
   "metadata": {},
   "outputs": [
    {
     "data": {
      "text/html": [
       "<div>\n",
       "<style scoped>\n",
       "    .dataframe tbody tr th:only-of-type {\n",
       "        vertical-align: middle;\n",
       "    }\n",
       "\n",
       "    .dataframe tbody tr th {\n",
       "        vertical-align: top;\n",
       "    }\n",
       "\n",
       "    .dataframe thead th {\n",
       "        text-align: right;\n",
       "    }\n",
       "</style>\n",
       "<table border=\"1\" class=\"dataframe\">\n",
       "  <thead>\n",
       "    <tr style=\"text-align: right;\">\n",
       "      <th></th>\n",
       "      <th>Label</th>\n",
       "      <th>Ticker</th>\n",
       "      <th>Headline</th>\n",
       "    </tr>\n",
       "  </thead>\n",
       "  <tbody>\n",
       "    <tr>\n",
       "      <th>590</th>\n",
       "      <td>0</td>\n",
       "      <td>ERIC</td>\n",
       "      <td>DJ Michelle Ericsson</td>\n",
       "    </tr>\n",
       "    <tr>\n",
       "      <th>1889</th>\n",
       "      <td>1</td>\n",
       "      <td>A</td>\n",
       "      <td>Dave Cameron fired</td>\n",
       "    </tr>\n",
       "    <tr>\n",
       "      <th>1890</th>\n",
       "      <td>0</td>\n",
       "      <td>A</td>\n",
       "      <td>Help Dave!</td>\n",
       "    </tr>\n",
       "    <tr>\n",
       "      <th>1914</th>\n",
       "      <td>0</td>\n",
       "      <td>A</td>\n",
       "      <td>SUPER DAVE IS BACK!</td>\n",
       "    </tr>\n",
       "    <tr>\n",
       "      <th>1919</th>\n",
       "      <td>1</td>\n",
       "      <td>A</td>\n",
       "      <td>Dave is gay.</td>\n",
       "    </tr>\n",
       "    <tr>\n",
       "      <th>...</th>\n",
       "      <td>...</td>\n",
       "      <td>...</td>\n",
       "      <td>...</td>\n",
       "    </tr>\n",
       "    <tr>\n",
       "      <th>11920</th>\n",
       "      <td>0</td>\n",
       "      <td>UPWK</td>\n",
       "      <td>Upwork Tests</td>\n",
       "    </tr>\n",
       "    <tr>\n",
       "      <th>12422</th>\n",
       "      <td>0</td>\n",
       "      <td>VRM</td>\n",
       "      <td>Vroom Vroom (vid)</td>\n",
       "    </tr>\n",
       "    <tr>\n",
       "      <th>12897</th>\n",
       "      <td>0</td>\n",
       "      <td>AXP</td>\n",
       "      <td>XP</td>\n",
       "    </tr>\n",
       "    <tr>\n",
       "      <th>13161</th>\n",
       "      <td>0</td>\n",
       "      <td>ZNGA</td>\n",
       "      <td>jual chip zynga</td>\n",
       "    </tr>\n",
       "    <tr>\n",
       "      <th>13163</th>\n",
       "      <td>1</td>\n",
       "      <td>ZNGA</td>\n",
       "      <td>zynga poker chips</td>\n",
       "    </tr>\n",
       "  </tbody>\n",
       "</table>\n",
       "<p>119 rows × 3 columns</p>\n",
       "</div>"
      ],
      "text/plain": [
       "       Label Ticker              Headline\n",
       "590        0   ERIC  DJ Michelle Ericsson\n",
       "1889       1      A    Dave Cameron fired\n",
       "1890       0      A            Help Dave!\n",
       "1914       0      A   SUPER DAVE IS BACK!\n",
       "1919       1      A          Dave is gay.\n",
       "...      ...    ...                   ...\n",
       "11920      0   UPWK          Upwork Tests\n",
       "12422      0    VRM     Vroom Vroom (vid)\n",
       "12897      0    AXP                    XP\n",
       "13161      0   ZNGA       jual chip zynga\n",
       "13163      1   ZNGA     zynga poker chips\n",
       "\n",
       "[119 rows x 3 columns]"
      ]
     },
     "execution_count": 19,
     "metadata": {},
     "output_type": "execute_result"
    }
   ],
   "source": [
    "df_nasdaq[df_nasdaq['Headline'].str.len()<=20]"
   ]
  },
  {
   "cell_type": "markdown",
   "id": "7f896c99",
   "metadata": {},
   "source": [
    "# Zero shot classification\n",
    "We use a Zero-Shot Classification model (facebook/bart-large-mnli) to evaluate how relevant each news headline is to specific topics related to the stock market.\n",
    "\n",
    "The model assigns a relevance score (between 0 and 1) for each headline across the following topics:\n",
    "\n",
    "\"stock market\"\n",
    "\n",
    "\"finance\"\n",
    "\n",
    "\"company news\"\n",
    "\n",
    "\"business\"\n",
    "\n",
    "\"economy\"\n",
    "\n",
    "\"politics\"\n",
    "\n",
    "\"entertainment\"\n",
    "\n",
    "If a headline receives a maximum score below 0.20 for all of the above topics, it is considered irrelevant to financial or market-related content."
   ]
  },
  {
   "cell_type": "code",
   "execution_count": 18,
   "id": "8846b67e",
   "metadata": {},
   "outputs": [
    {
     "name": "stderr",
     "output_type": "stream",
     "text": [
      "c:\\Users\\USER\\Desktop\\Sentiment_ananalysis\\venv\\Lib\\site-packages\\tqdm\\auto.py:21: TqdmWarning: IProgress not found. Please update jupyter and ipywidgets. See https://ipywidgets.readthedocs.io/en/stable/user_install.html\n",
      "  from .autonotebook import tqdm as notebook_tqdm\n",
      "Device set to use cuda:0\n"
     ]
    }
   ],
   "source": [
    "from transformers import pipeline\n",
    "classifier = pipeline(\"zero-shot-classification\", model=\"facebook/bart-large-mnli\",device=0)"
   ]
  },
  {
   "cell_type": "code",
   "execution_count": 19,
   "id": "aa686014",
   "metadata": {},
   "outputs": [],
   "source": [
    "candidate_labels = [\"stock market\", \"finance\", \"company news\", \"business\", \"economy\", \"politics\", \"entertainment\"]\n",
    "headlines = df_nasdaq['Headline'].tolist()\n",
    "results = classifier(headlines, candidate_labels, batch_size=8) \n",
    "df_nasdaq['Highest label'] = [result['labels'][0] for result in results]\n",
    "df_nasdaq['Highest Score'] = [result['scores'][0] for result in results]"
   ]
  },
  {
   "cell_type": "code",
   "execution_count": 23,
   "id": "0b643c4f",
   "metadata": {},
   "outputs": [
    {
     "data": {
      "text/html": [
       "<div>\n",
       "<style scoped>\n",
       "    .dataframe tbody tr th:only-of-type {\n",
       "        vertical-align: middle;\n",
       "    }\n",
       "\n",
       "    .dataframe tbody tr th {\n",
       "        vertical-align: top;\n",
       "    }\n",
       "\n",
       "    .dataframe thead th {\n",
       "        text-align: right;\n",
       "    }\n",
       "</style>\n",
       "<table border=\"1\" class=\"dataframe\">\n",
       "  <thead>\n",
       "    <tr style=\"text-align: right;\">\n",
       "      <th></th>\n",
       "      <th>Label</th>\n",
       "      <th>Ticker</th>\n",
       "      <th>Headline</th>\n",
       "      <th>Highest label</th>\n",
       "      <th>Highest Score</th>\n",
       "    </tr>\n",
       "  </thead>\n",
       "  <tbody>\n",
       "    <tr>\n",
       "      <th>0</th>\n",
       "      <td>0</td>\n",
       "      <td>A</td>\n",
       "      <td>@TotesTravel : Airline shares tumble as New Yo...</td>\n",
       "      <td>company news</td>\n",
       "      <td>0.411234</td>\n",
       "    </tr>\n",
       "    <tr>\n",
       "      <th>1</th>\n",
       "      <td>1</td>\n",
       "      <td>A</td>\n",
       "      <td>@TotesTravel : American United call off Hong K...</td>\n",
       "      <td>company news</td>\n",
       "      <td>0.493645</td>\n",
       "    </tr>\n",
       "    <tr>\n",
       "      <th>2</th>\n",
       "      <td>0</td>\n",
       "      <td>A</td>\n",
       "      <td>@TotesTravel : U.S. airline stocks hit highest...</td>\n",
       "      <td>stock market</td>\n",
       "      <td>0.459379</td>\n",
       "    </tr>\n",
       "    <tr>\n",
       "      <th>3</th>\n",
       "      <td>1</td>\n",
       "      <td>A</td>\n",
       "      <td>@TotesTravel : American Airlines reaches deal ...</td>\n",
       "      <td>company news</td>\n",
       "      <td>0.403023</td>\n",
       "    </tr>\n",
       "    <tr>\n",
       "      <th>4</th>\n",
       "      <td>1</td>\n",
       "      <td>A</td>\n",
       "      <td>@TotesTravel : US airlines Treasury Department...</td>\n",
       "      <td>company news</td>\n",
       "      <td>0.334893</td>\n",
       "    </tr>\n",
       "  </tbody>\n",
       "</table>\n",
       "</div>"
      ],
      "text/plain": [
       "   Label Ticker                                           Headline  \\\n",
       "0      0      A  @TotesTravel : Airline shares tumble as New Yo...   \n",
       "1      1      A  @TotesTravel : American United call off Hong K...   \n",
       "2      0      A  @TotesTravel : U.S. airline stocks hit highest...   \n",
       "3      1      A  @TotesTravel : American Airlines reaches deal ...   \n",
       "4      1      A  @TotesTravel : US airlines Treasury Department...   \n",
       "\n",
       "  Highest label  Highest Score  \n",
       "0  company news       0.411234  \n",
       "1  company news       0.493645  \n",
       "2  stock market       0.459379  \n",
       "3  company news       0.403023  \n",
       "4  company news       0.334893  "
      ]
     },
     "execution_count": 23,
     "metadata": {},
     "output_type": "execute_result"
    }
   ],
   "source": [
    "df_nasdaq.head()"
   ]
  },
  {
   "cell_type": "markdown",
   "id": "a14d8323",
   "metadata": {},
   "source": [
    "### Storing dataset with added label scores"
   ]
  },
  {
   "cell_type": "code",
   "execution_count": 20,
   "id": "c688b23d",
   "metadata": {},
   "outputs": [],
   "source": [
    "df_nasdaq.to_csv('../data/processed/nasdaq_with_labels.csv', index=False)"
   ]
  },
  {
   "cell_type": "code",
   "execution_count": 39,
   "id": "e4184c63",
   "metadata": {},
   "outputs": [],
   "source": [
    "import pandas as pd\n",
    "df_nasdaq = pd.read_csv('../data/processed/nasdaq_with_labels.csv')"
   ]
  },
  {
   "cell_type": "code",
   "execution_count": 40,
   "id": "5e8ac5c2",
   "metadata": {},
   "outputs": [
    {
     "data": {
      "text/html": [
       "<div>\n",
       "<style scoped>\n",
       "    .dataframe tbody tr th:only-of-type {\n",
       "        vertical-align: middle;\n",
       "    }\n",
       "\n",
       "    .dataframe tbody tr th {\n",
       "        vertical-align: top;\n",
       "    }\n",
       "\n",
       "    .dataframe thead th {\n",
       "        text-align: right;\n",
       "    }\n",
       "</style>\n",
       "<table border=\"1\" class=\"dataframe\">\n",
       "  <thead>\n",
       "    <tr style=\"text-align: right;\">\n",
       "      <th></th>\n",
       "      <th>Label</th>\n",
       "      <th>Ticker</th>\n",
       "      <th>Headline</th>\n",
       "      <th>Highest label</th>\n",
       "      <th>Highest Score</th>\n",
       "    </tr>\n",
       "  </thead>\n",
       "  <tbody>\n",
       "    <tr>\n",
       "      <th>4</th>\n",
       "      <td>1</td>\n",
       "      <td>A</td>\n",
       "      <td>@TotesTravel : US airlines Treasury Department...</td>\n",
       "      <td>company news</td>\n",
       "      <td>0.334893</td>\n",
       "    </tr>\n",
       "    <tr>\n",
       "      <th>6</th>\n",
       "      <td>0</td>\n",
       "      <td>AAPL</td>\n",
       "      <td>European Union regulators who slapped Apple In...</td>\n",
       "      <td>finance</td>\n",
       "      <td>0.376262</td>\n",
       "    </tr>\n",
       "    <tr>\n",
       "      <th>7</th>\n",
       "      <td>1</td>\n",
       "      <td>AAPL</td>\n",
       "      <td>The EU's ruling that Apple Inc must pay a huge...</td>\n",
       "      <td>economy</td>\n",
       "      <td>0.284207</td>\n",
       "    </tr>\n",
       "    <tr>\n",
       "      <th>20</th>\n",
       "      <td>0</td>\n",
       "      <td>AAPL</td>\n",
       "      <td>India reluctant to give special tax incentives...</td>\n",
       "      <td>business</td>\n",
       "      <td>0.276878</td>\n",
       "    </tr>\n",
       "    <tr>\n",
       "      <th>46</th>\n",
       "      <td>0</td>\n",
       "      <td>AAPL</td>\n",
       "      <td>IPhone application development is the developm...</td>\n",
       "      <td>economy</td>\n",
       "      <td>0.319029</td>\n",
       "    </tr>\n",
       "    <tr>\n",
       "      <th>...</th>\n",
       "      <td>...</td>\n",
       "      <td>...</td>\n",
       "      <td>...</td>\n",
       "      <td>...</td>\n",
       "      <td>...</td>\n",
       "    </tr>\n",
       "    <tr>\n",
       "      <th>13164</th>\n",
       "      <td>1</td>\n",
       "      <td>ZNGA</td>\n",
       "      <td>Zynga Is Now Worth Lesser Than its Own Headqua...</td>\n",
       "      <td>company news</td>\n",
       "      <td>0.305671</td>\n",
       "    </tr>\n",
       "    <tr>\n",
       "      <th>13166</th>\n",
       "      <td>1</td>\n",
       "      <td>ZNGA</td>\n",
       "      <td>cheap zynga poker chips</td>\n",
       "      <td>economy</td>\n",
       "      <td>0.374822</td>\n",
       "    </tr>\n",
       "    <tr>\n",
       "      <th>13172</th>\n",
       "      <td>0</td>\n",
       "      <td>ZNGA</td>\n",
       "      <td>Anonymous attack of Facebook Zynga looms</td>\n",
       "      <td>company news</td>\n",
       "      <td>0.376847</td>\n",
       "    </tr>\n",
       "    <tr>\n",
       "      <th>13176</th>\n",
       "      <td>1</td>\n",
       "      <td>ZNGA</td>\n",
       "      <td>Bitcoin Tops $1000 Again as Zynga Accepts Virt...</td>\n",
       "      <td>finance</td>\n",
       "      <td>0.339270</td>\n",
       "    </tr>\n",
       "    <tr>\n",
       "      <th>13177</th>\n",
       "      <td>1</td>\n",
       "      <td>ZNGA</td>\n",
       "      <td>Zynga Accepts Bitcoin For Microtransactions</td>\n",
       "      <td>company news</td>\n",
       "      <td>0.310756</td>\n",
       "    </tr>\n",
       "  </tbody>\n",
       "</table>\n",
       "<p>5353 rows × 5 columns</p>\n",
       "</div>"
      ],
      "text/plain": [
       "       Label Ticker                                           Headline  \\\n",
       "4          1      A  @TotesTravel : US airlines Treasury Department...   \n",
       "6          0   AAPL  European Union regulators who slapped Apple In...   \n",
       "7          1   AAPL  The EU's ruling that Apple Inc must pay a huge...   \n",
       "20         0   AAPL  India reluctant to give special tax incentives...   \n",
       "46         0   AAPL  IPhone application development is the developm...   \n",
       "...      ...    ...                                                ...   \n",
       "13164      1   ZNGA  Zynga Is Now Worth Lesser Than its Own Headqua...   \n",
       "13166      1   ZNGA                            cheap zynga poker chips   \n",
       "13172      0   ZNGA           Anonymous attack of Facebook Zynga looms   \n",
       "13176      1   ZNGA  Bitcoin Tops $1000 Again as Zynga Accepts Virt...   \n",
       "13177      1   ZNGA        Zynga Accepts Bitcoin For Microtransactions   \n",
       "\n",
       "      Highest label  Highest Score  \n",
       "4      company news       0.334893  \n",
       "6           finance       0.376262  \n",
       "7           economy       0.284207  \n",
       "20         business       0.276878  \n",
       "46          economy       0.319029  \n",
       "...             ...            ...  \n",
       "13164  company news       0.305671  \n",
       "13166       economy       0.374822  \n",
       "13172  company news       0.376847  \n",
       "13176       finance       0.339270  \n",
       "13177  company news       0.310756  \n",
       "\n",
       "[5353 rows x 5 columns]"
      ]
     },
     "execution_count": 40,
     "metadata": {},
     "output_type": "execute_result"
    }
   ],
   "source": [
    "df_nasdaq[df_nasdaq['Highest Score'] < 0.40]"
   ]
  },
  {
   "cell_type": "markdown",
   "id": "c87e107c",
   "metadata": {},
   "source": [
    "### Dropping irrelevant headlines\n",
    "Dropping irrelevant rows which are unwanted results from web scraping where the zero shot classification got very low confidence in above labels"
   ]
  },
  {
   "cell_type": "code",
   "execution_count": 41,
   "id": "d667b019",
   "metadata": {},
   "outputs": [],
   "source": [
    "df_nasdaq2 = df_nasdaq[df_nasdaq['Highest Score'] >= 0.40].reset_index(drop=True)"
   ]
  },
  {
   "cell_type": "code",
   "execution_count": 42,
   "id": "3a5be353",
   "metadata": {},
   "outputs": [
    {
     "data": {
      "text/html": [
       "<div>\n",
       "<style scoped>\n",
       "    .dataframe tbody tr th:only-of-type {\n",
       "        vertical-align: middle;\n",
       "    }\n",
       "\n",
       "    .dataframe tbody tr th {\n",
       "        vertical-align: top;\n",
       "    }\n",
       "\n",
       "    .dataframe thead th {\n",
       "        text-align: right;\n",
       "    }\n",
       "</style>\n",
       "<table border=\"1\" class=\"dataframe\">\n",
       "  <thead>\n",
       "    <tr style=\"text-align: right;\">\n",
       "      <th></th>\n",
       "      <th>Label</th>\n",
       "      <th>Ticker</th>\n",
       "      <th>Headline</th>\n",
       "      <th>Highest label</th>\n",
       "      <th>Highest Score</th>\n",
       "    </tr>\n",
       "  </thead>\n",
       "  <tbody>\n",
       "  </tbody>\n",
       "</table>\n",
       "</div>"
      ],
      "text/plain": [
       "Empty DataFrame\n",
       "Columns: [Label, Ticker, Headline, Highest label, Highest Score]\n",
       "Index: []"
      ]
     },
     "execution_count": 42,
     "metadata": {},
     "output_type": "execute_result"
    }
   ],
   "source": [
    "df_nasdaq2[df_nasdaq2['Highest Score'] < 0.40]"
   ]
  },
  {
   "cell_type": "code",
   "execution_count": 43,
   "id": "160c9a6e",
   "metadata": {},
   "outputs": [
    {
     "data": {
      "text/plain": [
       "Label            7828\n",
       "Ticker           7828\n",
       "Headline         7828\n",
       "Highest label    7828\n",
       "Highest Score    7828\n",
       "dtype: int64"
      ]
     },
     "execution_count": 43,
     "metadata": {},
     "output_type": "execute_result"
    }
   ],
   "source": [
    "df_nasdaq2.count()"
   ]
  },
  {
   "cell_type": "markdown",
   "id": "8bb7438e",
   "metadata": {},
   "source": [
    "# Generating word embeddings\n",
    "Since ML models can only work with numbers we need to convert each headline and stock name into numerical representation without loosing meaning. So, we convert the Stock names or Stock labels to embeddings using Label Encoder and Headlines using Yiyanghkust/finbert-tone which is trained on financial data making it more relevant for stock headlines."
   ]
  },
  {
   "cell_type": "code",
   "execution_count": 45,
   "id": "b88f68cb",
   "metadata": {},
   "outputs": [
    {
     "name": "stdout",
     "output_type": "stream",
     "text": [
      "(7828, 1)\n"
     ]
    }
   ],
   "source": [
    "from sklearn.preprocessing import LabelEncoder\n",
    "le = LabelEncoder()\n",
    "stock_embeddings = le.fit_transform(df_nasdaq2['Ticker'].tolist())\n",
    "stock_embeddings = np.array(stock_embeddings).reshape(-1,1)\n",
    "print(stock_embeddings.shape)\n"
   ]
  },
  {
   "cell_type": "code",
   "execution_count": 46,
   "id": "917e0558",
   "metadata": {},
   "outputs": [
    {
     "name": "stderr",
     "output_type": "stream",
     "text": [
      "No sentence-transformers model found with name yiyanghkust/finbert-tone. Creating a new one with mean pooling.\n",
      "Batches: 100%|██████████| 245/245 [00:40<00:00,  6.03it/s]\n"
     ]
    }
   ],
   "source": [
    "from sentence_transformers import SentenceTransformer\n",
    "import numpy as np\n",
    "model = SentenceTransformer(\"yiyanghkust/finbert-tone\")\n",
    "headline_embeddings = model.encode(df_nasdaq2['Headline'].tolist(), show_progress_bar=True)\n",
    "headline_embeddings = np.array(headline_embeddings)\n",
    "\n"
   ]
  },
  {
   "cell_type": "markdown",
   "id": "e785985b",
   "metadata": {},
   "source": [
    "Combining both stock name embeddings and headline embeddings to get a final embedding"
   ]
  },
  {
   "cell_type": "code",
   "execution_count": 47,
   "id": "9fefbe42",
   "metadata": {},
   "outputs": [
    {
     "name": "stdout",
     "output_type": "stream",
     "text": [
      "(7828, 769)\n"
     ]
    }
   ],
   "source": [
    "embeddings = np.concatenate([stock_embeddings, headline_embeddings],axis=1)\n",
    "print(embeddings.shape)"
   ]
  },
  {
   "cell_type": "code",
   "execution_count": null,
   "id": "35de8b5a",
   "metadata": {},
   "outputs": [
    {
     "name": "stdout",
     "output_type": "stream",
     "text": [
      "(7828, 769)\n"
     ]
    }
   ],
   "source": [
    "print(embeddings.shape)  \n",
    "x = embeddings\n",
    "y = df_nasdaq2['Label'].tolist()"
   ]
  },
  {
   "cell_type": "markdown",
   "id": "59003fb4",
   "metadata": {},
   "source": [
    "# Test train split"
   ]
  },
  {
   "cell_type": "code",
   "execution_count": 49,
   "id": "7d211936",
   "metadata": {},
   "outputs": [],
   "source": [
    "from sklearn.model_selection import train_test_split\n",
    "x_train, x_test, y_train, y_test = train_test_split(x, y, test_size=0.25, random_state=42)"
   ]
  },
  {
   "cell_type": "markdown",
   "id": "07d1c62e",
   "metadata": {},
   "source": [
    "# Imbalance handling\n",
    "As we have observed from above analysis, the data set is imblanced with label 0 (stock down) being the majority and label 2 (stock neutral) being minority so to balance this we are using SMOTE"
   ]
  },
  {
   "cell_type": "code",
   "execution_count": 50,
   "id": "d1b1280c",
   "metadata": {},
   "outputs": [
    {
     "name": "stdout",
     "output_type": "stream",
     "text": [
      "Before Counter({0: 3769, 1: 1983, 2: 119})\n",
      "After Counter({1: 3769, 0: 3769, 2: 3769})\n"
     ]
    }
   ],
   "source": [
    "from imblearn.over_sampling import SMOTE\n",
    "from collections import Counter\n",
    "smt = SMOTE()\n",
    "x_train_sm, y_train_sm = smt.fit_resample(x_train, y_train)\n",
    "print('Before', Counter(y_train))\n",
    "print('After', Counter(y_train_sm))\n"
   ]
  },
  {
   "cell_type": "markdown",
   "id": "7985a969",
   "metadata": {},
   "source": [
    "# Logistic regression with and without using SMOTE"
   ]
  },
  {
   "cell_type": "markdown",
   "id": "01c85aa3",
   "metadata": {},
   "source": [
    "### Without smote:"
   ]
  },
  {
   "cell_type": "code",
   "execution_count": 51,
   "id": "6326b8d0",
   "metadata": {},
   "outputs": [
    {
     "name": "stderr",
     "output_type": "stream",
     "text": [
      "c:\\Users\\USER\\Desktop\\Sentiment_ananalysis\\venv\\Lib\\site-packages\\sklearn\\linear_model\\_logistic.py:1272: FutureWarning: 'multi_class' was deprecated in version 1.5 and will be removed in 1.8. From then on, it will always use 'multinomial'. Leave it to its default value to avoid this warning.\n",
      "  warnings.warn(\n"
     ]
    },
    {
     "name": "stdout",
     "output_type": "stream",
     "text": [
      "Accuracy_score 0.5646397547266224\n",
      "              precision    recall  f1-score   support\n",
      "\n",
      "           0       0.71      0.58      0.64      1236\n",
      "           1       0.44      0.55      0.49       671\n",
      "           2       0.14      0.28      0.19        50\n",
      "\n",
      "    accuracy                           0.56      1957\n",
      "   macro avg       0.43      0.47      0.44      1957\n",
      "weighted avg       0.60      0.56      0.58      1957\n",
      "\n",
      "Confusion Matrix:\n",
      "[[723 458 55]\n",
      " [273 368 30]\n",
      " [19 17 14]]\n"
     ]
    }
   ],
   "source": [
    "from sklearn.metrics import accuracy_score, confusion_matrix\n",
    "from sklearn.metrics import classification_report\n",
    "import joblib\n",
    "from sklearn.linear_model import LogisticRegression\n",
    "model = LogisticRegression(multi_class='multinomial', class_weight='balanced' ,solver='lbfgs', random_state=42,max_iter=10000)\n",
    "model.fit(x_train, y_train)\n",
    "\n",
    "\n",
    "y_pred = model.predict(x_test)\n",
    "print(\"Accuracy_score\" ,accuracy_score(y_test, y_pred))\n",
    "\n",
    "print(classification_report(y_test, y_pred))\n",
    "cm = confusion_matrix(y_test, y_pred)\n",
    "print(\"Confusion Matrix:\")\n",
    "print(f\"[[{cm[0,0]} {cm[0,1]} {cm[0,2]}]\")\n",
    "print(f\" [{cm[1,0]} {cm[1,1]} {cm[1,2]}]\")\n",
    "print(f\" [{cm[2,0]} {cm[2,1]} {cm[2,2]}]]\")"
   ]
  },
  {
   "cell_type": "markdown",
   "id": "23342020",
   "metadata": {},
   "source": [
    "### With smote:"
   ]
  },
  {
   "cell_type": "code",
   "execution_count": 52,
   "id": "eaeba845",
   "metadata": {},
   "outputs": [
    {
     "name": "stderr",
     "output_type": "stream",
     "text": [
      "c:\\Users\\USER\\Desktop\\Sentiment_ananalysis\\venv\\Lib\\site-packages\\sklearn\\linear_model\\_logistic.py:1272: FutureWarning: 'multi_class' was deprecated in version 1.5 and will be removed in 1.8. From then on, it will always use 'multinomial'. Leave it to its default value to avoid this warning.\n",
      "  warnings.warn(\n"
     ]
    },
    {
     "name": "stdout",
     "output_type": "stream",
     "text": [
      "Accuracy_score 0.5666836995401124\n",
      "              precision    recall  f1-score   support\n",
      "\n",
      "           0       0.71      0.60      0.65      1236\n",
      "           1       0.43      0.52      0.47       671\n",
      "           2       0.15      0.28      0.19        50\n",
      "\n",
      "    accuracy                           0.57      1957\n",
      "   macro avg       0.43      0.47      0.44      1957\n",
      "weighted avg       0.60      0.57      0.58      1957\n",
      "\n",
      "Confusion Matrix:\n",
      "[[747 439 50]\n",
      " [293 348 30]\n",
      " [18 18 14]]\n"
     ]
    }
   ],
   "source": [
    "from sklearn.metrics import accuracy_score, confusion_matrix\n",
    "from sklearn.metrics import classification_report\n",
    "import joblib\n",
    "from sklearn.linear_model import LogisticRegression\n",
    "model = LogisticRegression(multi_class='multinomial', class_weight='balanced' ,solver='lbfgs', random_state=42,max_iter=10000)\n",
    "model.fit(x_train_sm, y_train_sm)\n",
    "\n",
    "\n",
    "y_pred = model.predict(x_test)\n",
    "print(\"Accuracy_score\" ,accuracy_score(y_test, y_pred))\n",
    "\n",
    "print(classification_report(y_test, y_pred))\n",
    "cm = confusion_matrix(y_test, y_pred)\n",
    "print(\"Confusion Matrix:\")\n",
    "print(f\"[[{cm[0,0]} {cm[0,1]} {cm[0,2]}]\")\n",
    "print(f\" [{cm[1,0]} {cm[1,1]} {cm[1,2]}]\")\n",
    "print(f\" [{cm[2,0]} {cm[2,1]} {cm[2,2]}]]\")"
   ]
  },
  {
   "cell_type": "markdown",
   "id": "b91cacad",
   "metadata": {},
   "source": [
    "# Random forest with and without SMOTE"
   ]
  },
  {
   "cell_type": "markdown",
   "id": "a5cd6ca3",
   "metadata": {},
   "source": [
    "### Using smote:"
   ]
  },
  {
   "cell_type": "code",
   "execution_count": 53,
   "id": "7a599269",
   "metadata": {},
   "outputs": [
    {
     "name": "stdout",
     "output_type": "stream",
     "text": [
      "Accuracy: 0.7072049054675523\n",
      "              precision    recall  f1-score   support\n",
      "\n",
      "           0       0.74      0.85      0.79      1236\n",
      "           1       0.63      0.47      0.54       671\n",
      "           2       0.74      0.28      0.41        50\n",
      "\n",
      "    accuracy                           0.71      1957\n",
      "   macro avg       0.70      0.54      0.58      1957\n",
      "weighted avg       0.70      0.71      0.69      1957\n",
      "\n",
      "Confusion Matrix:\n",
      "[[1052 183 1]\n",
      " [349 318 4]\n",
      " [29 7 14]]\n"
     ]
    }
   ],
   "source": [
    "from sklearn.ensemble import RandomForestClassifier\n",
    "\n",
    "rf_model = RandomForestClassifier(n_estimators=100, class_weight = 'balanced' ,random_state=42)\n",
    "rf_model.fit(x_train_sm, y_train_sm)\n",
    "y_pred = rf_model.predict(x_test)\n",
    "\n",
    "print(\"Accuracy:\", accuracy_score(y_test, y_pred))\n",
    "print(classification_report(y_test, y_pred))\n",
    "cm = confusion_matrix(y_test, y_pred)\n",
    "print(\"Confusion Matrix:\")\n",
    "print(f\"[[{cm[0,0]} {cm[0,1]} {cm[0,2]}]\")\n",
    "print(f\" [{cm[1,0]} {cm[1,1]} {cm[1,2]}]\")\n",
    "print(f\" [{cm[2,0]} {cm[2,1]} {cm[2,2]}]]\")"
   ]
  },
  {
   "cell_type": "markdown",
   "id": "348a17e7",
   "metadata": {},
   "source": [
    "### Without smote:"
   ]
  },
  {
   "cell_type": "code",
   "execution_count": 54,
   "id": "cfbad2e8",
   "metadata": {},
   "outputs": [
    {
     "name": "stdout",
     "output_type": "stream",
     "text": [
      "Accuracy: 0.7291773122125702\n",
      "              precision    recall  f1-score   support\n",
      "\n",
      "           0       0.72      0.95      0.82      1236\n",
      "           1       0.80      0.35      0.49       671\n",
      "           2       0.72      0.26      0.38        50\n",
      "\n",
      "    accuracy                           0.73      1957\n",
      "   macro avg       0.75      0.52      0.56      1957\n",
      "weighted avg       0.74      0.73      0.69      1957\n",
      "\n",
      "Confusion Matrix:\n",
      "[[1178 57 1]\n",
      " [431 236 4]\n",
      " [34 3 13]]\n"
     ]
    }
   ],
   "source": [
    "from sklearn.ensemble import RandomForestClassifier\n",
    "\n",
    "rf_model = RandomForestClassifier(n_estimators=100, class_weight = 'balanced' ,random_state=42)\n",
    "rf_model.fit(x_train, y_train)\n",
    "y_pred = rf_model.predict(x_test)\n",
    "\n",
    "print(\"Accuracy:\", accuracy_score(y_test, y_pred))\n",
    "print(classification_report(y_test, y_pred))\n",
    "cm = confusion_matrix(y_test, y_pred)\n",
    "print(\"Confusion Matrix:\")\n",
    "print(f\"[[{cm[0,0]} {cm[0,1]} {cm[0,2]}]\")\n",
    "print(f\" [{cm[1,0]} {cm[1,1]} {cm[1,2]}]\")\n",
    "print(f\" [{cm[2,0]} {cm[2,1]} {cm[2,2]}]]\")"
   ]
  },
  {
   "cell_type": "markdown",
   "id": "548b6cad",
   "metadata": {},
   "source": [
    "# Xgboost with and without SMOTE"
   ]
  },
  {
   "cell_type": "markdown",
   "id": "bf48a76a",
   "metadata": {},
   "source": [
    "### With smote:"
   ]
  },
  {
   "cell_type": "code",
   "execution_count": 55,
   "id": "5f62c5c7",
   "metadata": {},
   "outputs": [
    {
     "name": "stdout",
     "output_type": "stream",
     "text": [
      "Accuracy: 0.7184466019417476\n",
      "              precision    recall  f1-score   support\n",
      "\n",
      "           0       0.75      0.84      0.80      1236\n",
      "           1       0.64      0.52      0.57       671\n",
      "           2       0.67      0.32      0.43        50\n",
      "\n",
      "    accuracy                           0.72      1957\n",
      "   macro avg       0.68      0.56      0.60      1957\n",
      "weighted avg       0.71      0.72      0.71      1957\n",
      "\n",
      "Confusion Matrix:\n",
      "[[1044 189 3]\n",
      " [320 346 5]\n",
      " [26 8 16]]\n"
     ]
    }
   ],
   "source": [
    "from xgboost import XGBClassifier\n",
    "bst = XGBClassifier(n_estimators=300, max_depth=6, learning_rate=0.05, objective='multi:softmax',num_class=3)\n",
    "bst.fit(x_train_sm, y_train_sm)\n",
    "y_pred = bst.predict(x_test)\n",
    "print(\"Accuracy:\", accuracy_score(y_test, y_pred))\n",
    "print(classification_report(y_test, y_pred))\n",
    "cm = confusion_matrix(y_test, y_pred)\n",
    "print(\"Confusion Matrix:\")\n",
    "print(f\"[[{cm[0,0]} {cm[0,1]} {cm[0,2]}]\")\n",
    "print(f\" [{cm[1,0]} {cm[1,1]} {cm[1,2]}]\")\n",
    "print(f\" [{cm[2,0]} {cm[2,1]} {cm[2,2]}]]\")"
   ]
  },
  {
   "cell_type": "markdown",
   "id": "cac8374f",
   "metadata": {},
   "source": [
    "### Without smote:"
   ]
  },
  {
   "cell_type": "code",
   "execution_count": 56,
   "id": "24a9b34b",
   "metadata": {},
   "outputs": [
    {
     "name": "stdout",
     "output_type": "stream",
     "text": [
      "Accuracy: 0.7230454777721002\n",
      "              precision    recall  f1-score   support\n",
      "\n",
      "           0       0.72      0.92      0.81      1236\n",
      "           1       0.71      0.41      0.52       671\n",
      "           2       1.00      0.24      0.39        50\n",
      "\n",
      "    accuracy                           0.72      1957\n",
      "   macro avg       0.81      0.52      0.57      1957\n",
      "weighted avg       0.73      0.72      0.70      1957\n",
      "\n",
      "Confusion Matrix:\n",
      "[[1131 105 0]\n",
      " [399 272 0]\n",
      " [32 6 12]]\n"
     ]
    }
   ],
   "source": [
    "import numpy as np\n",
    "from xgboost import XGBClassifier\n",
    "bst = XGBClassifier(n_estimators=300, max_depth=6, learning_rate=0.05, objective='multi:softmax',num_class=3)\n",
    "bst.fit(x_train, y_train)\n",
    "y_pred = bst.predict(x_test)\n",
    "print(\"Accuracy:\", accuracy_score(y_test, y_pred))\n",
    "print(classification_report(y_test, y_pred))\n",
    "cm = confusion_matrix(y_test, y_pred)\n",
    "print(\"Confusion Matrix:\")\n",
    "print(f\"[[{cm[0,0]} {cm[0,1]} {cm[0,2]}]\")\n",
    "print(f\" [{cm[1,0]} {cm[1,1]} {cm[1,2]}]\")\n",
    "print(f\" [{cm[2,0]} {cm[2,1]} {cm[2,2]}]]\")"
   ]
  },
  {
   "cell_type": "markdown",
   "id": "13f22abf",
   "metadata": {},
   "source": [
    "# Conclusion\n",
    "We experimented with three machine learning models to predict stock price movement based on news headlines:\n",
    "1. Logistic Regression\n",
    "2. Random Forest Classifier\n",
    "3. XGBoost Classifier\n",
    "\n",
    "Each model was trained with and without SMOTE (Synthetic Minority Oversampling Technique) to address class imbalance. \n",
    "Based on the above analysis, the best-performing model was selected for deployment.\n",
    "A Python script was then developed to allow users to input a headline and a stock name, after which the model predicts the relevance or category of the headline."
   ]
  }
 ],
 "metadata": {
  "kernelspec": {
   "display_name": "venv",
   "language": "python",
   "name": "python3"
  },
  "language_info": {
   "codemirror_mode": {
    "name": "ipython",
    "version": 3
   },
   "file_extension": ".py",
   "mimetype": "text/x-python",
   "name": "python",
   "nbconvert_exporter": "python",
   "pygments_lexer": "ipython3",
   "version": "3.13.5"
  }
 },
 "nbformat": 4,
 "nbformat_minor": 5
}
